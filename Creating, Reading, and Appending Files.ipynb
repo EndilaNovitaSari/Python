{
 "cells": [
  {
   "cell_type": "markdown",
   "id": "33d98005-4244-4a5a-8b52-1111b30b4f84",
   "metadata": {},
   "source": [
    "Creating, Reading, and Appending Files"
   ]
  },
  {
   "cell_type": "markdown",
   "id": "1534fc56-2a2b-4a65-8cdf-39d11761f90c",
   "metadata": {},
   "source": [
    "Open Function\n",
    "It has 2 argumnets:\n",
    "1. The file path\n",
    "2. The mode (specify what we are doing, we could put in the mode : creating, reading or appending file)"
   ]
  },
  {
   "cell_type": "code",
   "execution_count": null,
   "id": "5faa3316-bcfd-47ca-9b81-1c25ca834d1a",
   "metadata": {},
   "outputs": [],
   "source": [
    "Creating File"
   ]
  },
  {
   "cell_type": "code",
   "execution_count": 1,
   "id": "a530be33-1a3e-4c2a-9593-206ebf9ba13d",
   "metadata": {},
   "outputs": [],
   "source": [
    "write_file = open(r'C:\\Users\\poj00\\Python Tutorial\\FakeFile.txt', 'w')\n",
    "#  r : read"
   ]
  },
  {
   "cell_type": "code",
   "execution_count": null,
   "id": "5c0ccd30-eb06-4262-a930-b58322ce789f",
   "metadata": {},
   "outputs": [],
   "source": [
    "Inserting File"
   ]
  },
  {
   "cell_type": "code",
   "execution_count": 5,
   "id": "acddcdeb-682e-4476-a1d8-d6ea6fccdef0",
   "metadata": {},
   "outputs": [
    {
     "data": {
      "text/plain": [
       "37"
      ]
     },
     "execution_count": 5,
     "metadata": {},
     "output_type": "execute_result"
    }
   ],
   "source": [
    "# open the file in a writing mode\n",
    "# dot (.) : allows us to write the file\n",
    "write_file.write('This is my first sentence in my file.')"
   ]
  },
  {
   "cell_type": "markdown",
   "id": "b8243531-4d7d-47d0-b2cb-a4c1748cf47d",
   "metadata": {},
   "source": [
    "37 : total characters"
   ]
  },
  {
   "cell_type": "code",
   "execution_count": null,
   "id": "8c082348-5eed-402c-afe3-407edf58b941",
   "metadata": {},
   "outputs": [],
   "source": [
    "Closing file"
   ]
  },
  {
   "cell_type": "code",
   "execution_count": 7,
   "id": "0b945e5f-2f45-44bf-83a2-f62db71e14f1",
   "metadata": {},
   "outputs": [],
   "source": [
    "write_file.close()"
   ]
  },
  {
   "cell_type": "code",
   "execution_count": 9,
   "id": "789be73d-f550-4e1e-bba7-cdc05eb4e80b",
   "metadata": {},
   "outputs": [],
   "source": [
    "append_file = open(r'C:\\Users\\poj00\\Python Tutorial\\FakeFile.txt', 'a')\n",
    "append_file.write('This is my second sentence in my file.')\n",
    "append_file.close()"
   ]
  },
  {
   "cell_type": "code",
   "execution_count": 11,
   "id": "d1a2739e-e265-4ebd-9044-f2fd514d16f5",
   "metadata": {},
   "outputs": [],
   "source": [
    "append_file1 = open(r'C:\\Users\\poj00\\Python Tutorial\\FakeFile.txt', 'a')\n",
    "append_file1.write(' This is my third sentence in my file.')\n",
    "append_file1.close()"
   ]
  },
  {
   "cell_type": "markdown",
   "id": "b689e01b-32e1-4cf2-9f3f-19dae5b4f95a",
   "metadata": {},
   "source": [
    "Creating Contex Manager\n",
    "Writing file on new line"
   ]
  },
  {
   "cell_type": "code",
   "execution_count": 13,
   "id": "a28b1084-0950-4168-b943-66a8ff45c747",
   "metadata": {},
   "outputs": [],
   "source": [
    "with open(r'C:\\Users\\poj00\\Python Tutorial\\FakeFile.txt', 'a') as append_file1:\n",
    "    append_file1.write('\\nThis is my fourth sentence in my file on a new line.')    "
   ]
  },
  {
   "cell_type": "markdown",
   "id": "9a9ac019-af70-49f1-a6ea-8b7352f4345a",
   "metadata": {},
   "source": [
    "Reading file"
   ]
  },
  {
   "cell_type": "code",
   "execution_count": 19,
   "id": "7d5a1eb3-d77d-48a6-82e8-094fe941c56c",
   "metadata": {},
   "outputs": [
    {
     "name": "stdout",
     "output_type": "stream",
     "text": [
      "This is my first sentence in my file. This is my second sentence in my file. This is my third sentence in my file.\n",
      "This is my fourth sentence in my file on a new line.\n"
     ]
    }
   ],
   "source": [
    "with open(r'C:\\Users\\poj00\\Python Tutorial\\FakeFile.txt', 'r') as read_file:\n",
    "    print(read_file.read())"
   ]
  },
  {
   "cell_type": "code",
   "execution_count": 23,
   "id": "f6c19128-c7f3-4766-8947-3f299e277ff8",
   "metadata": {},
   "outputs": [],
   "source": [
    "multi_line = \"\"\"\n",
    "This is my fifth sentence.\n",
    "This is my sixth sentence.\n",
    "\"\"\"\n",
    "\n",
    "with open(r'C:\\Users\\poj00\\Python Tutorial\\FakeFile.txt', 'a') as append_file:\n",
    "     append_file.write(multi_line)"
   ]
  },
  {
   "cell_type": "code",
   "execution_count": 25,
   "id": "2483a6bf-d85c-4a63-92eb-0341b8319ef5",
   "metadata": {},
   "outputs": [
    {
     "name": "stdout",
     "output_type": "stream",
     "text": [
      "This is my first sentence in my file. This is my second sentence in my file. This is my third sentence in my file.\n",
      "This is my fourth sentence in my file on a new line.\n",
      "This is my fifth sentence.\n",
      "This is my sixth sentence.\n",
      "\n"
     ]
    }
   ],
   "source": [
    "with open(r'C:\\Users\\poj00\\Python Tutorial\\FakeFile.txt', 'r') as read_file:\n",
    "    print(read_file.read())"
   ]
  }
 ],
 "metadata": {
  "kernelspec": {
   "display_name": "Python 3 (ipykernel)",
   "language": "python",
   "name": "python3"
  },
  "language_info": {
   "codemirror_mode": {
    "name": "ipython",
    "version": 3
   },
   "file_extension": ".py",
   "mimetype": "text/x-python",
   "name": "python",
   "nbconvert_exporter": "python",
   "pygments_lexer": "ipython3",
   "version": "3.12.7"
  }
 },
 "nbformat": 4,
 "nbformat_minor": 5
}
