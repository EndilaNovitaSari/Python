{
 "cells": [
  {
   "cell_type": "markdown",
   "id": "185397b4-701b-49f8-add9-eff04063fb3b",
   "metadata": {},
   "source": [
    "### Automatic File Sorter in File Explorer"
   ]
  },
  {
   "cell_type": "code",
   "execution_count": 50,
   "id": "615299e9-fbfc-4827-b90d-da7d4fe67b3a",
   "metadata": {},
   "outputs": [],
   "source": [
    "import os, shutil"
   ]
  },
  {
   "cell_type": "code",
   "execution_count": 52,
   "id": "62bcb8c5-22ea-4d40-bf8b-2f735a679b52",
   "metadata": {},
   "outputs": [],
   "source": [
    "path = r\"C:/Users/poj00/Python Tutorial/\""
   ]
  },
  {
   "cell_type": "code",
   "execution_count": 54,
   "id": "bae1d145-b783-46db-8afd-8651cbde2482",
   "metadata": {},
   "outputs": [
    {
     "data": {
      "text/plain": [
       "['API.csv', 'FakeFile.txt']"
      ]
     },
     "execution_count": 54,
     "metadata": {},
     "output_type": "execute_result"
    }
   ],
   "source": [
    "os.listdir(path)"
   ]
  },
  {
   "cell_type": "code",
   "execution_count": 56,
   "id": "cd61f51a-8613-44f6-8545-5a2e8bb0d927",
   "metadata": {},
   "outputs": [],
   "source": [
    "file_name = os.listdir(path)"
   ]
  },
  {
   "cell_type": "code",
   "execution_count": 58,
   "id": "053f8bfe-3680-4192-aafa-afc682fbfd40",
   "metadata": {},
   "outputs": [
    {
     "data": {
      "text/plain": [
       "False"
      ]
     },
     "execution_count": 58,
     "metadata": {},
     "output_type": "execute_result"
    }
   ],
   "source": [
    "os.path.exists(path + 'csv files')"
   ]
  },
  {
   "cell_type": "code",
   "execution_count": 62,
   "id": "4486732f-15ba-488c-a506-718ac3153e1e",
   "metadata": {},
   "outputs": [],
   "source": [
    "folder_names = ['csv files', 'text files']\n",
    "\n",
    "for loop in range(0,2):\n",
    "    if not os.path.exists(path + folder_names[loop]):\n",
    "        # print(path + folder_names[loop])\n",
    "        os.makedirs(path + folder_names[loop]) \n",
    "\n",
    "for file in file_name:\n",
    "    if \".csv\" in file and not os.path.exists(path + \"csv files/\" + file):\n",
    "        shutil.move(path + file, path + \"csv files/\" + file)\n",
    "    elif \".txt\" in file and not os.path.exists(path + \"text files/\" + file):\n",
    "        shutil.move(path + file, path + \"text files/\" + file)"
   ]
  }
 ],
 "metadata": {
  "kernelspec": {
   "display_name": "Python 3 (ipykernel)",
   "language": "python",
   "name": "python3"
  },
  "language_info": {
   "codemirror_mode": {
    "name": "ipython",
    "version": 3
   },
   "file_extension": ".py",
   "mimetype": "text/x-python",
   "name": "python",
   "nbconvert_exporter": "python",
   "pygments_lexer": "ipython3",
   "version": "3.12.7"
  }
 },
 "nbformat": 4,
 "nbformat_minor": 5
}
