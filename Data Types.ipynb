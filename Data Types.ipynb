{
 "cells": [
  {
   "cell_type": "code",
   "execution_count": 1,
   "id": "89a3a91a-cb2c-4a4a-9295-43143e53f89a",
   "metadata": {},
   "outputs": [
    {
     "data": {
      "text/plain": [
       "int"
      ]
     },
     "execution_count": 1,
     "metadata": {},
     "output_type": "execute_result"
    }
   ],
   "source": [
    "# Integer\n",
    "type(-12 + 100)"
   ]
  },
  {
   "cell_type": "code",
   "execution_count": 3,
   "id": "91a77562-cea5-4cb9-b85f-eb8c0828724e",
   "metadata": {},
   "outputs": [
    {
     "data": {
      "text/plain": [
       "float"
      ]
     },
     "execution_count": 3,
     "metadata": {},
     "output_type": "execute_result"
    }
   ],
   "source": [
    "# Float\n",
    "type(12 + 10.25)"
   ]
  },
  {
   "cell_type": "code",
   "execution_count": 5,
   "id": "c5a7b878-6387-4e34-a6c0-0e3114a5025a",
   "metadata": {},
   "outputs": [
    {
     "data": {
      "text/plain": [
       "complex"
      ]
     },
     "execution_count": 5,
     "metadata": {},
     "output_type": "execute_result"
    }
   ],
   "source": [
    "# Complex (only \"j\" for imaginery number)\n",
    "type(12 +3j)"
   ]
  },
  {
   "cell_type": "code",
   "execution_count": 11,
   "id": "23005f21-77a7-4e54-a32a-6c86fc77115d",
   "metadata": {},
   "outputs": [
    {
     "data": {
      "text/plain": [
       "bool"
      ]
     },
     "execution_count": 11,
     "metadata": {},
     "output_type": "execute_result"
    }
   ],
   "source": [
    "# Boolean (case sensitive)\n",
    "type(True)"
   ]
  },
  {
   "cell_type": "code",
   "execution_count": 13,
   "id": "a9bc0d22-97ec-4a64-936a-b87c717da432",
   "metadata": {},
   "outputs": [
    {
     "data": {
      "text/plain": [
       "bool"
      ]
     },
     "execution_count": 13,
     "metadata": {},
     "output_type": "execute_result"
    }
   ],
   "source": [
    "type(1 > 5)"
   ]
  },
  {
   "cell_type": "code",
   "execution_count": 15,
   "id": "5a392412-3ca6-4b08-8503-61487de067fc",
   "metadata": {},
   "outputs": [
    {
     "data": {
      "text/plain": [
       "False"
      ]
     },
     "execution_count": 15,
     "metadata": {},
     "output_type": "execute_result"
    }
   ],
   "source": [
    "1 > 5"
   ]
  },
  {
   "cell_type": "code",
   "execution_count": 17,
   "id": "a45065b8-9593-463a-bfd3-29a4429ec355",
   "metadata": {},
   "outputs": [
    {
     "data": {
      "text/plain": [
       "True"
      ]
     },
     "execution_count": 17,
     "metadata": {},
     "output_type": "execute_result"
    }
   ],
   "source": [
    "1 == 1"
   ]
  },
  {
   "cell_type": "code",
   "execution_count": 19,
   "id": "65b7a97b-7174-4a10-ae87-b5eddca00189",
   "metadata": {},
   "outputs": [
    {
     "data": {
      "text/plain": [
       "'Single Quote'"
      ]
     },
     "execution_count": 19,
     "metadata": {},
     "output_type": "execute_result"
    }
   ],
   "source": [
    "# Strings --> one value, multiple characters\n",
    "'Single Quote'"
   ]
  },
  {
   "cell_type": "code",
   "execution_count": 21,
   "id": "8d33d42a-1966-44d2-aa5f-0db108e48652",
   "metadata": {},
   "outputs": [
    {
     "data": {
      "text/plain": [
       "'Double Quote'"
      ]
     },
     "execution_count": 21,
     "metadata": {},
     "output_type": "execute_result"
    }
   ],
   "source": [
    "\"Double Quote\""
   ]
  },
  {
   "cell_type": "code",
   "execution_count": 31,
   "id": "336ee653-6cd3-44d0-bac6-8510c75f9392",
   "metadata": {},
   "outputs": [],
   "source": [
    "# Triple Quote - Multiple lines (multi-line)\n",
    "\n",
    "multiline = \"\"\"\n",
    "The ice cream vanquished\n",
    "my loging for sweets,\n",
    "upon this diet I look away,\n",
    "it no longer exists on this day.\n",
    "\"\"\""
   ]
  },
  {
   "cell_type": "code",
   "execution_count": 33,
   "id": "e766e248-78b6-4a3c-a882-1e193d3be87d",
   "metadata": {},
   "outputs": [
    {
     "name": "stdout",
     "output_type": "stream",
     "text": [
      "\n",
      "The ice cream vanquished\n",
      "my loging for sweets,\n",
      "upon this diet I look away,\n",
      "it no longer exists on this day.\n",
      "\n"
     ]
    }
   ],
   "source": [
    "print(multiline)"
   ]
  },
  {
   "cell_type": "code",
   "execution_count": 35,
   "id": "35732c11-9446-473b-b86b-4770df151688",
   "metadata": {},
   "outputs": [
    {
     "data": {
      "text/plain": [
       "\"I've always wanted to eat a gallon of ice cream.\""
      ]
     },
     "execution_count": 35,
     "metadata": {},
     "output_type": "execute_result"
    }
   ],
   "source": [
    "\"I've always wanted to eat a gallon of ice cream.\""
   ]
  },
  {
   "cell_type": "code",
   "execution_count": 37,
   "id": "f6740482-cd1c-4068-875b-88ceee346273",
   "metadata": {},
   "outputs": [
    {
     "data": {
      "text/plain": [
       "str"
      ]
     },
     "execution_count": 37,
     "metadata": {},
     "output_type": "execute_result"
    }
   ],
   "source": [
    "type(multiline)"
   ]
  },
  {
   "cell_type": "code",
   "execution_count": 1,
   "id": "ad8398c0-3c8a-49b8-b3a3-e0bdf55f19e6",
   "metadata": {},
   "outputs": [
    {
     "name": "stdout",
     "output_type": "stream",
     "text": [
      "Hello\n",
      "W\n",
      "l\n"
     ]
    }
   ],
   "source": [
    "# Index --> use bracket [], colon :\n",
    "a = 'Hello World!'\n",
    "print(a[:5]) #indexing from zero to five\n",
    "print(a[6])\n",
    "print(a[-3])"
   ]
  },
  {
   "cell_type": "code",
   "execution_count": 3,
   "id": "ac8bbb14-2681-4eb4-8144-12653b02573c",
   "metadata": {},
   "outputs": [
    {
     "name": "stdout",
     "output_type": "stream",
     "text": [
      "llo\n"
     ]
    }
   ],
   "source": [
    "print(a[2:5])"
   ]
  },
  {
   "cell_type": "code",
   "execution_count": 5,
   "id": "bafb3956-7515-4a7d-87c7-eff2f3ea7689",
   "metadata": {},
   "outputs": [
    {
     "data": {
      "text/plain": [
       "'Hello World!Hello World!Hello World!'"
      ]
     },
     "execution_count": 5,
     "metadata": {},
     "output_type": "execute_result"
    }
   ],
   "source": [
    "a*3"
   ]
  },
  {
   "cell_type": "code",
   "execution_count": 7,
   "id": "f4ed4844-8d78-402c-9a47-89a4544594e4",
   "metadata": {},
   "outputs": [
    {
     "data": {
      "text/plain": [
       "'Hello World!Hello World!'"
      ]
     },
     "execution_count": 7,
     "metadata": {},
     "output_type": "execute_result"
    }
   ],
   "source": [
    "a + a"
   ]
  },
  {
   "cell_type": "code",
   "execution_count": 9,
   "id": "ed64f246-ea83-4c6f-b62b-d8c7eea96229",
   "metadata": {},
   "outputs": [
    {
     "data": {
      "text/plain": [
       "[1, 2, 3]"
      ]
     },
     "execution_count": 9,
     "metadata": {},
     "output_type": "execute_result"
    }
   ],
   "source": [
    "# List --> strored multiple values, with bracket [], mutable (can be modified)\n",
    "\n",
    "# list with integer\n",
    "[1,2,3]"
   ]
  },
  {
   "cell_type": "code",
   "execution_count": 11,
   "id": "e82264b0-b3c8-4fea-80c1-f4df32e34ac3",
   "metadata": {},
   "outputs": [
    {
     "data": {
      "text/plain": [
       "['Cookie Dough', 'Strawberry', 'Chocolate']"
      ]
     },
     "execution_count": 11,
     "metadata": {},
     "output_type": "execute_result"
    }
   ],
   "source": [
    "# List with string\n",
    "['Cookie Dough', 'Strawberry', 'Chocolate']"
   ]
  },
  {
   "cell_type": "code",
   "execution_count": 13,
   "id": "1e2bef43-2611-477f-96c4-22c50acab4c0",
   "metadata": {},
   "outputs": [
    {
     "data": {
      "text/plain": [
       "['Vanilla', 3, ['Scoops', 'Spoon'], True]"
      ]
     },
     "execution_count": 13,
     "metadata": {},
     "output_type": "execute_result"
    }
   ],
   "source": [
    "# List with combination data types (string, integer, list, boolean)\n",
    "['Vanilla', 3, ['Scoops', 'Spoon'], True]"
   ]
  },
  {
   "cell_type": "code",
   "execution_count": 15,
   "id": "eac64463-c14e-46c6-b1f8-1ca6787a4ca1",
   "metadata": {},
   "outputs": [
    {
     "data": {
      "text/plain": [
       "['Cookie Dough', 'Strawberry', 'Chocolate', 'Salted Caramel']"
      ]
     },
     "execution_count": 15,
     "metadata": {},
     "output_type": "execute_result"
    }
   ],
   "source": [
    "# Append list\n",
    "ice_cream = ['Cookie Dough', 'Strawberry', 'Chocolate']\n",
    "ice_cream.append('Salted Caramel')\n",
    "ice_cream"
   ]
  },
  {
   "cell_type": "code",
   "execution_count": 17,
   "id": "274efbd6-72af-447e-bba5-8e13c05688ea",
   "metadata": {},
   "outputs": [
    {
     "data": {
      "text/plain": [
       "['Butter Pecan', 'Strawberry', 'Chocolate', 'Salted Caramel']"
      ]
     },
     "execution_count": 17,
     "metadata": {},
     "output_type": "execute_result"
    }
   ],
   "source": [
    "# Change value in the list with indexing\n",
    "ice_cream[0] = 'Butter Pecan'\n",
    "ice_cream"
   ]
  },
  {
   "cell_type": "code",
   "execution_count": 19,
   "id": "fff2d2ca-b577-4db4-9319-f2b724adeb4e",
   "metadata": {},
   "outputs": [],
   "source": [
    "# List within a list (nested list)\n",
    "nest_list = ['Vanilla', 3, ['Scoops', 'Spoon'], True]"
   ]
  },
  {
   "cell_type": "code",
   "execution_count": 21,
   "id": "68765f05-8466-494a-8c23-01ed22598ebd",
   "metadata": {},
   "outputs": [
    {
     "data": {
      "text/plain": [
       "['Scoops', 'Spoon']"
      ]
     },
     "execution_count": 21,
     "metadata": {},
     "output_type": "execute_result"
    }
   ],
   "source": [
    "nest_list[2]"
   ]
  },
  {
   "cell_type": "code",
   "execution_count": 23,
   "id": "d0a0e552-fe13-4e89-8091-06c70fb81c80",
   "metadata": {},
   "outputs": [
    {
     "data": {
      "text/plain": [
       "'Spoon'"
      ]
     },
     "execution_count": 23,
     "metadata": {},
     "output_type": "execute_result"
    }
   ],
   "source": [
    "nest_list[2][1]"
   ]
  },
  {
   "cell_type": "code",
   "execution_count": 25,
   "id": "b2f7c4af-f291-480f-8491-5fb4d251d363",
   "metadata": {},
   "outputs": [],
   "source": [
    "# Tuple \n",
    "\n",
    "# - immutable (cannot be modified after it's created)\n",
    "# - with parenthesis ()\n",
    "# - use for when data id never going to change, ex: city, country, location\n",
    "tuple_scoops = (1,2,3,2,1)"
   ]
  },
  {
   "cell_type": "code",
   "execution_count": 27,
   "id": "a795600e-6c2c-4293-b286-889f882dbd10",
   "metadata": {},
   "outputs": [
    {
     "data": {
      "text/plain": [
       "tuple"
      ]
     },
     "execution_count": 27,
     "metadata": {},
     "output_type": "execute_result"
    }
   ],
   "source": [
    "type(tuple_scoops)"
   ]
  },
  {
   "cell_type": "code",
   "execution_count": 29,
   "id": "90b86a7e-4c19-48fc-a948-3f86ba064ab8",
   "metadata": {},
   "outputs": [
    {
     "data": {
      "text/plain": [
       "1"
      ]
     },
     "execution_count": 29,
     "metadata": {},
     "output_type": "execute_result"
    }
   ],
   "source": [
    "tuple_scoops[0]"
   ]
  },
  {
   "cell_type": "code",
   "execution_count": 31,
   "id": "be01768f-da6d-400d-8f34-ba9564849094",
   "metadata": {},
   "outputs": [
    {
     "ename": "AttributeError",
     "evalue": "'tuple' object has no attribute 'append'",
     "output_type": "error",
     "traceback": [
      "\u001b[1;31m---------------------------------------------------------------------------\u001b[0m",
      "\u001b[1;31mAttributeError\u001b[0m                            Traceback (most recent call last)",
      "Cell \u001b[1;32mIn[31], line 1\u001b[0m\n\u001b[1;32m----> 1\u001b[0m tuple_scoops\u001b[38;5;241m.\u001b[39mappend(\u001b[38;5;241m3\u001b[39m)\n",
      "\u001b[1;31mAttributeError\u001b[0m: 'tuple' object has no attribute 'append'"
     ]
    }
   ],
   "source": [
    "tuple_scoops.append(3)"
   ]
  },
  {
   "cell_type": "code",
   "execution_count": 35,
   "id": "41c51cf3-8ee4-4809-a38b-45d56f49ecf1",
   "metadata": {},
   "outputs": [],
   "source": [
    "# Sets\n",
    "\n",
    "# - don't have any duplicate elements\n",
    "# - the value within a set cannot be accessed using an index because it doesn't have an index because it's actually unordered \n",
    "# - with squiggly brackets {}\n",
    "\n",
    "daily_pints = {1,2,3}"
   ]
  },
  {
   "cell_type": "code",
   "execution_count": 37,
   "id": "3f2cf2c8-b14b-4613-8e1c-8bb2d0684c81",
   "metadata": {},
   "outputs": [
    {
     "data": {
      "text/plain": [
       "set"
      ]
     },
     "execution_count": 37,
     "metadata": {},
     "output_type": "execute_result"
    }
   ],
   "source": [
    "type(daily_pints)"
   ]
  },
  {
   "cell_type": "code",
   "execution_count": 39,
   "id": "963bc5cb-04af-4cdd-8290-d70f35931f36",
   "metadata": {},
   "outputs": [
    {
     "name": "stdout",
     "output_type": "stream",
     "text": [
      "{1, 2, 3}\n"
     ]
    }
   ],
   "source": [
    "print(daily_pints)"
   ]
  },
  {
   "cell_type": "code",
   "execution_count": 41,
   "id": "b6c26995-95ad-4c29-a76a-9a08eed66b3e",
   "metadata": {},
   "outputs": [
    {
     "name": "stdout",
     "output_type": "stream",
     "text": [
      "{1, 2, 3, 4, 5, 6}\n"
     ]
    }
   ],
   "source": [
    "# only print unique values\n",
    "daily_pints_log = {1,2,3,4,5,6,2,3,1,3,2,2,4,4}\n",
    "print(daily_pints_log)"
   ]
  },
  {
   "cell_type": "code",
   "execution_count": 53,
   "id": "fa0af3a3-93e9-4c1a-ace8-912c7581fd44",
   "metadata": {},
   "outputs": [],
   "source": [
    "bf_daily_pints_log = {1,6,4,5,8,9,1,4,3,1,5,1,6,7}"
   ]
  },
  {
   "cell_type": "code",
   "execution_count": 55,
   "id": "262ec547-0fe7-4db9-8e57-c47f47a4a457",
   "metadata": {},
   "outputs": [
    {
     "name": "stdout",
     "output_type": "stream",
     "text": [
      "{1, 2, 3, 4, 5, 6, 7, 8, 9}\n"
     ]
    }
   ],
   "source": [
    "# Combined unique value in one set\n",
    "print(daily_pints_log | bf_daily_pints_log)"
   ]
  },
  {
   "cell_type": "code",
   "execution_count": 57,
   "id": "82874336-fcb4-46c4-aace-ab8871d3d35e",
   "metadata": {},
   "outputs": [
    {
     "name": "stdout",
     "output_type": "stream",
     "text": [
      "{1, 3, 4, 5, 6}\n"
     ]
    }
   ],
   "source": [
    "# Combine with similar value\n",
    "print(daily_pints_log & bf_daily_pints_log)"
   ]
  },
  {
   "cell_type": "code",
   "execution_count": 61,
   "id": "de4d4602-fe79-40b3-b1fa-8f09063b5b1c",
   "metadata": {},
   "outputs": [
    {
     "name": "stdout",
     "output_type": "stream",
     "text": [
      "{2}\n"
     ]
    }
   ],
   "source": [
    "# Compare different value in two sets\n",
    "# Not same in bf_daily_pints_log\n",
    "print(daily_pints_log - bf_daily_pints_log)"
   ]
  },
  {
   "cell_type": "code",
   "execution_count": 63,
   "id": "34127a37-33eb-4f8b-9294-8c4e2beadd9f",
   "metadata": {},
   "outputs": [
    {
     "name": "stdout",
     "output_type": "stream",
     "text": [
      "{8, 9, 7}\n"
     ]
    }
   ],
   "source": [
    "# Not same in daily_pints_log\n",
    "print(bf_daily_pints_log - daily_pints_log)"
   ]
  },
  {
   "cell_type": "code",
   "execution_count": 65,
   "id": "7d8b4a02-7c89-482e-8ba4-9dcc51b6c146",
   "metadata": {},
   "outputs": [
    {
     "name": "stdout",
     "output_type": "stream",
     "text": [
      "{2, 7, 8, 9}\n"
     ]
    }
   ],
   "source": [
    "# Not same in two sets above\n",
    "print(bf_daily_pints_log ^ daily_pints_log)"
   ]
  },
  {
   "cell_type": "code",
   "execution_count": 71,
   "id": "7e497a6c-a68b-4146-84c7-2ef01d14e62e",
   "metadata": {},
   "outputs": [],
   "source": [
    "# Dictionaries \n",
    "# - with squiggly brackets {}\n",
    "# - Key/Value Pair\n",
    "# - separate that key - value pair by a comma\n",
    "# - key = name\n",
    "# - value pair = dila\n",
    "dict_cream = {'name' : 'Dila', 'weekly_intake' : 7, 'favaorite_ice_creams' : ['Chocolate', 'Strawberry']}"
   ]
  },
  {
   "cell_type": "code",
   "execution_count": 73,
   "id": "24cda89f-ea70-48c7-84ef-7edb9cf4b1cc",
   "metadata": {},
   "outputs": [
    {
     "data": {
      "text/plain": [
       "dict"
      ]
     },
     "execution_count": 73,
     "metadata": {},
     "output_type": "execute_result"
    }
   ],
   "source": [
    "type(dict_cream)"
   ]
  },
  {
   "cell_type": "code",
   "execution_count": 75,
   "id": "deb3472e-dea3-46bc-8cc4-a7b0254db3c3",
   "metadata": {},
   "outputs": [
    {
     "name": "stdout",
     "output_type": "stream",
     "text": [
      "{'name': 'Dila', 'weekly_intake': 7, 'favaorite_ice_creams': ['Chocolate', 'Strawberry']}\n"
     ]
    }
   ],
   "source": [
    "print(dict_cream)"
   ]
  },
  {
   "cell_type": "code",
   "execution_count": 77,
   "id": "7bc7b865-fccf-45aa-b10d-eb32e8f28736",
   "metadata": {},
   "outputs": [
    {
     "data": {
      "text/plain": [
       "dict_values(['Dila', 7, ['Chocolate', 'Strawberry']])"
      ]
     },
     "execution_count": 77,
     "metadata": {},
     "output_type": "execute_result"
    }
   ],
   "source": [
    "# Check value in  a dict\n",
    "dict_cream.values()"
   ]
  },
  {
   "cell_type": "code",
   "execution_count": 79,
   "id": "87cba5bc-70b2-4836-bce9-3c7bed57b284",
   "metadata": {},
   "outputs": [
    {
     "data": {
      "text/plain": [
       "dict_keys(['name', 'weekly_intake', 'favaorite_ice_creams'])"
      ]
     },
     "execution_count": 79,
     "metadata": {},
     "output_type": "execute_result"
    }
   ],
   "source": [
    "# Check key in a dict\n",
    "dict_cream.keys()"
   ]
  },
  {
   "cell_type": "code",
   "execution_count": 85,
   "id": "919fce70-5c64-410e-9283-d29876bf35ce",
   "metadata": {},
   "outputs": [
    {
     "data": {
      "text/plain": [
       "dict_items([('name', 'Dila'), ('weekly_intake', 7), ('favaorite_ice_creams', ['Chocolate', 'Strawberry'])])"
      ]
     },
     "execution_count": 85,
     "metadata": {},
     "output_type": "execute_result"
    }
   ],
   "source": [
    "# Check item in a dict\n",
    "# ('name', 'Dila') = one item\n",
    "dict_cream.items()"
   ]
  },
  {
   "cell_type": "code",
   "execution_count": 91,
   "id": "213eca17-1d96-4873-8221-9495f319c95c",
   "metadata": {},
   "outputs": [
    {
     "data": {
      "text/plain": [
       "'Dila'"
      ]
     },
     "execution_count": 91,
     "metadata": {},
     "output_type": "execute_result"
    }
   ],
   "source": [
    "# Doesn't call by index but with the key\n",
    "# dict_cream[0]\n",
    "dict_cream['name']"
   ]
  },
  {
   "cell_type": "code",
   "execution_count": 93,
   "id": "c6f09600-0d95-4416-9412-ac64c064c5f3",
   "metadata": {},
   "outputs": [],
   "source": [
    "# Update information in a dictionary (one key)\n",
    "dict_cream['name'] = 'Dini'"
   ]
  },
  {
   "cell_type": "code",
   "execution_count": 95,
   "id": "895a0a0b-18c1-4554-a3f6-318980b4e642",
   "metadata": {},
   "outputs": [
    {
     "name": "stdout",
     "output_type": "stream",
     "text": [
      "{'name': 'Dini', 'weekly_intake': 7, 'favaorite_ice_creams': ['Chocolate', 'Strawberry']}\n"
     ]
    }
   ],
   "source": [
    "print(dict_cream)"
   ]
  },
  {
   "cell_type": "code",
   "execution_count": 97,
   "id": "7b419780-375b-42ff-be90-65e1964647b4",
   "metadata": {},
   "outputs": [
    {
     "name": "stdout",
     "output_type": "stream",
     "text": [
      "{'name': 'Dini', 'weekly_intake': 7, 'favaorite_ice_creams': ['Chocolate', 'Strawberry'], 'weight': 300}\n"
     ]
    }
   ],
   "source": [
    "# Update information in a dictionary (multiple keys or values)\n",
    "# It did not delete the key value pair, instead of just added\n",
    "dict_cream.update({'name': 'Dini', 'weekly_intake': 7, 'weight': 300})\n",
    "print(dict_cream)"
   ]
  },
  {
   "cell_type": "code",
   "execution_count": 99,
   "id": "8f1bd3b0-0807-4df0-be53-ffff5585fe28",
   "metadata": {},
   "outputs": [
    {
     "name": "stdout",
     "output_type": "stream",
     "text": [
      "{'name': 'Dini', 'weekly_intake': 10, 'favaorite_ice_creams': ['Chocolate', 'Strawberry'], 'weight': 300}\n"
     ]
    }
   ],
   "source": [
    "dict_cream.update({'name': 'Dini', 'weekly_intake': 10, 'weight': 300})\n",
    "print(dict_cream)"
   ]
  },
  {
   "cell_type": "code",
   "execution_count": 101,
   "id": "de85cdc5-b8a7-4744-82d9-098f216e5144",
   "metadata": {},
   "outputs": [],
   "source": [
    "# Delete keys/values in a dictionary\n",
    "del dict_cream['weight']"
   ]
  },
  {
   "cell_type": "code",
   "execution_count": 103,
   "id": "a4dabcd1-abc9-4fbc-82a2-66db8aa25285",
   "metadata": {},
   "outputs": [
    {
     "name": "stdout",
     "output_type": "stream",
     "text": [
      "{'name': 'Dini', 'weekly_intake': 10, 'favaorite_ice_creams': ['Chocolate', 'Strawberry']}\n"
     ]
    }
   ],
   "source": [
    "print(dict_cream)"
   ]
  }
 ],
 "metadata": {
  "kernelspec": {
   "display_name": "Python 3 (ipykernel)",
   "language": "python",
   "name": "python3"
  },
  "language_info": {
   "codemirror_mode": {
    "name": "ipython",
    "version": 3
   },
   "file_extension": ".py",
   "mimetype": "text/x-python",
   "name": "python",
   "nbconvert_exporter": "python",
   "pygments_lexer": "ipython3",
   "version": "3.12.7"
  }
 },
 "nbformat": 4,
 "nbformat_minor": 5
}
