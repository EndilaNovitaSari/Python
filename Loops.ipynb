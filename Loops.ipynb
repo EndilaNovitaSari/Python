{
 "cells": [
  {
   "cell_type": "markdown",
   "id": "383e7af0-9001-4bcd-a1f6-e94d9f822765",
   "metadata": {},
   "source": [
    "For Loops"
   ]
  },
  {
   "cell_type": "code",
   "execution_count": 18,
   "id": "0811d962-74b5-4ddc-a7db-e7d2ecb72815",
   "metadata": {},
   "outputs": [],
   "source": [
    "integers = [1,2,3,4,5]"
   ]
  },
  {
   "cell_type": "code",
   "execution_count": 3,
   "id": "c19523d3-59f9-48ec-aa9b-bfc882bc617b",
   "metadata": {},
   "outputs": [
    {
     "name": "stdout",
     "output_type": "stream",
     "text": [
      "1\n",
      "2\n",
      "3\n",
      "4\n",
      "5\n"
     ]
    }
   ],
   "source": [
    "for number in integers:\n",
    "    print(number)"
   ]
  },
  {
   "cell_type": "code",
   "execution_count": 5,
   "id": "5867ee96-d158-41b6-866d-56f4dbc6dd3b",
   "metadata": {},
   "outputs": [
    {
     "name": "stdout",
     "output_type": "stream",
     "text": [
      "yeah!\n",
      "yeah!\n",
      "yeah!\n",
      "yeah!\n",
      "yeah!\n"
     ]
    }
   ],
   "source": [
    "for number in integers:\n",
    "    print('yeah!')"
   ]
  },
  {
   "cell_type": "code",
   "execution_count": 7,
   "id": "a6a68b22-733e-4ef2-85c4-c4fa75de4982",
   "metadata": {},
   "outputs": [
    {
     "name": "stdout",
     "output_type": "stream",
     "text": [
      "2\n",
      "4\n",
      "6\n",
      "8\n",
      "10\n"
     ]
    }
   ],
   "source": [
    "for Jelly in integers:\n",
    "    print(Jelly + Jelly)"
   ]
  },
  {
   "cell_type": "code",
   "execution_count": 9,
   "id": "13886527-719a-4155-a1e3-20fada0c461a",
   "metadata": {},
   "outputs": [
    {
     "name": "stdout",
     "output_type": "stream",
     "text": [
      "apple\n",
      "banana\n",
      "cherry\n"
     ]
    }
   ],
   "source": [
    "# Iterating over a List:\n",
    "fruits = [\"apple\", \"banana\", \"cherry\"]\n",
    "for fruit in fruits:\n",
    "    print(fruit)"
   ]
  },
  {
   "cell_type": "code",
   "execution_count": 11,
   "id": "9f87a546-c9d6-4c8f-b536-d072a718dc44",
   "metadata": {},
   "outputs": [
    {
     "name": "stdout",
     "output_type": "stream",
     "text": [
      "p\n",
      "y\n",
      "t\n",
      "h\n",
      "o\n",
      "n\n"
     ]
    }
   ],
   "source": [
    "# Iterating over a String:\n",
    "word = \"python\"\n",
    "for char in word:\n",
    "    print(char)"
   ]
  },
  {
   "cell_type": "code",
   "execution_count": 13,
   "id": "cfcceeeb-83bd-476b-9fb1-9fa6aff96dad",
   "metadata": {},
   "outputs": [
    {
     "name": "stdout",
     "output_type": "stream",
     "text": [
      "0\n",
      "1\n",
      "2\n",
      "3\n",
      "4\n"
     ]
    }
   ],
   "source": [
    "# Using the range() Function:\n",
    "for i in range(5):\n",
    "    print(i)"
   ]
  },
  {
   "cell_type": "code",
   "execution_count": 17,
   "id": "0225a6a8-f240-4c02-a26f-16e90fba7721",
   "metadata": {},
   "outputs": [
    {
     "name": "stdout",
     "output_type": "stream",
     "text": [
      "1\t2\t3\t4\t5\t6\t7\t8\t9\t10\t\n",
      "2\t4\t6\t8\t10\t12\t14\t16\t18\t20\t\n",
      "3\t6\t9\t12\t15\t18\t21\t24\t27\t30\t\n",
      "4\t8\t12\t16\t20\t24\t28\t32\t36\t40\t\n",
      "5\t10\t15\t20\t25\t30\t35\t40\t45\t50\t\n",
      "6\t12\t18\t24\t30\t36\t42\t48\t54\t60\t\n",
      "7\t14\t21\t28\t35\t42\t49\t56\t63\t70\t\n",
      "8\t16\t24\t32\t40\t48\t56\t64\t72\t80\t\n",
      "9\t18\t27\t36\t45\t54\t63\t72\t81\t90\t\n",
      "10\t20\t30\t40\t50\t60\t70\t80\t90\t100\t\n"
     ]
    }
   ],
   "source": [
    "# Creating a Multiplication Table\n",
    "for i in range(1, 11):\n",
    "    for j in range(1, 11):\n",
    "        print(i * j, end=\"\\t\")\n",
    "    print()"
   ]
  },
  {
   "cell_type": "code",
   "execution_count": 39,
   "id": "82972820-0186-4bfa-bef6-a18ae620b622",
   "metadata": {},
   "outputs": [],
   "source": [
    "# Iterating over a Dictionary:\n",
    "ice_cream_dict = {'name' : 'Endila Novita', 'weekly_intake' : 5, 'favorite_ice_cream' : ['Chocolate', 'Strawberry']}"
   ]
  },
  {
   "cell_type": "code",
   "execution_count": 41,
   "id": "f94c6646-d9ab-4da1-97d5-6bfc8f58cd58",
   "metadata": {},
   "outputs": [
    {
     "name": "stdout",
     "output_type": "stream",
     "text": [
      "Endila Novita\n",
      "5\n",
      "['Chocolate', 'Strawberry']\n"
     ]
    }
   ],
   "source": [
    "for cream in ice_cream_dict.values():\n",
    "    print(cream)"
   ]
  },
  {
   "cell_type": "code",
   "execution_count": 43,
   "id": "bbbbff68-030c-408b-bdff-1f14fcd50079",
   "metadata": {},
   "outputs": [
    {
     "name": "stdout",
     "output_type": "stream",
     "text": [
      "city --> New York\n",
      "city --> New York\n",
      "city --> New York\n"
     ]
    }
   ],
   "source": [
    "for cream in ice_cream_dict.items():\n",
    "    print(key, '-->', value)"
   ]
  },
  {
   "cell_type": "code",
   "execution_count": null,
   "id": "db711eb8-c27b-47a5-8cda-e0a288155c67",
   "metadata": {},
   "outputs": [],
   "source": [
    "Nested For Loops"
   ]
  },
  {
   "cell_type": "code",
   "execution_count": 49,
   "id": "5cefb604-f338-46ae-bfbf-fffc3805e066",
   "metadata": {},
   "outputs": [],
   "source": [
    "flavors = ['Vanilla', 'Chocolate', 'Cookie Dough']\n",
    "toppings = ['Hot Fudge', 'Oreos', 'Marshmallows']"
   ]
  },
  {
   "cell_type": "code",
   "execution_count": 51,
   "id": "dc9448ea-0241-4c10-8842-283f61b0109a",
   "metadata": {},
   "outputs": [
    {
     "name": "stdout",
     "output_type": "stream",
     "text": [
      "Vanilla topped with Hot Fudge\n",
      "Vanilla topped with Oreos\n",
      "Vanilla topped with Marshmallows\n",
      "Chocolate topped with Hot Fudge\n",
      "Chocolate topped with Oreos\n",
      "Chocolate topped with Marshmallows\n",
      "Cookie Dough topped with Hot Fudge\n",
      "Cookie Dough topped with Oreos\n",
      "Cookie Dough topped with Marshmallows\n"
     ]
    }
   ],
   "source": [
    "for one in flavors:\n",
    "    for two in toppings:\n",
    "        print(one, 'topped with', two)"
   ]
  },
  {
   "cell_type": "markdown",
   "id": "720e6ce0-f01f-454f-9c77-1998f6d7b1b2",
   "metadata": {},
   "source": [
    "While Loops"
   ]
  },
  {
   "cell_type": "code",
   "execution_count": 53,
   "id": "120065a6-2bf2-4e49-a502-1a162d50ed35",
   "metadata": {},
   "outputs": [
    {
     "name": "stdout",
     "output_type": "stream",
     "text": [
      "0\n",
      "1\n",
      "2\n",
      "3\n",
      "4\n"
     ]
    }
   ],
   "source": [
    "number = 0\n",
    "\n",
    "while number < 5: \n",
    "    print(number)\n",
    "    number = number + 1"
   ]
  },
  {
   "cell_type": "code",
   "execution_count": 55,
   "id": "62cd828d-ef70-407c-a869-3d0103b67742",
   "metadata": {},
   "outputs": [
    {
     "name": "stdout",
     "output_type": "stream",
     "text": [
      "0\n",
      "1\n",
      "2\n",
      "3\n"
     ]
    }
   ],
   "source": [
    "# once condition is no longer met\n",
    "number = 0\n",
    "\n",
    "while number < 5: \n",
    "    print(number)\n",
    "    if number == 3:\n",
    "        break # stop the loop even if the while condition is true \n",
    "        # if the number equals 3 we're going to break out of this while loop\n",
    "        # if this false we're going continue adding to that number just like normal \n",
    "    number = number + 1"
   ]
  },
  {
   "cell_type": "code",
   "execution_count": 20,
   "id": "4490d385-ca0c-4811-bb00-db855b68a662",
   "metadata": {
    "jp-MarkdownHeadingCollapsed": true
   },
   "outputs": [
    {
     "name": "stdout",
     "output_type": "stream",
     "text": [
      "0\n",
      "1\n",
      "2\n",
      "3\n",
      "4\n",
      "No longer < 5\n"
     ]
    }
   ],
   "source": [
    "# else statement will no longer going to trigger so this body of code will not be run\n",
    "number = 0\n",
    "\n",
    "while number < 5: \n",
    "    print(number)\n",
    "    if number == 6:\n",
    "        break \n",
    "    number = number + 1\n",
    "else:\n",
    "    print('No longer < 5')"
   ]
  },
  {
   "cell_type": "code",
   "execution_count": null,
   "id": "47d7da1a-7e32-4461-aaed-b3c0e3c5ad34",
   "metadata": {},
   "outputs": [],
   "source": [
    "#  Continue Statement\n",
    "number = 0\n",
    "\n",
    "while number < 5: \n",
    "    print(number)\n",
    "    if number == 3:\n",
    "        break \n",
    "    number = number + 1\n",
    "else:\n",
    "    print('No longer < 5')"
   ]
  },
  {
   "cell_type": "code",
   "execution_count": 24,
   "id": "e9931f20-1b8e-42d7-b0d0-baaab2ca9aec",
   "metadata": {},
   "outputs": [
    {
     "name": "stdout",
     "output_type": "stream",
     "text": [
      "1\n",
      "2\n",
      "4\n",
      "5\n",
      "No longer < 5\n"
     ]
    }
   ],
   "source": [
    "number = 0\n",
    "\n",
    "while number < 5: \n",
    "    number = number + 1\n",
    "    if number == 3:\n",
    "        continue\n",
    "    print(number)\n",
    "else:\n",
    "    print('No longer < 5')"
   ]
  }
 ],
 "metadata": {
  "kernelspec": {
   "display_name": "Python 3 (ipykernel)",
   "language": "python",
   "name": "python3"
  },
  "language_info": {
   "codemirror_mode": {
    "name": "ipython",
    "version": 3
   },
   "file_extension": ".py",
   "mimetype": "text/x-python",
   "name": "python",
   "nbconvert_exporter": "python",
   "pygments_lexer": "ipython3",
   "version": "3.12.7"
  }
 },
 "nbformat": 4,
 "nbformat_minor": 5
}
