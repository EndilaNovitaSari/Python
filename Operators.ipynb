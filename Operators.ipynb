{
 "cells": [
  {
   "cell_type": "markdown",
   "id": "7a5c353a-b210-4ece-80f1-f9f6e28cfec8",
   "metadata": {},
   "source": [
    "Comparison Operators"
   ]
  },
  {
   "cell_type": "code",
   "execution_count": 1,
   "id": "a83e4dab-6750-4ff7-83c7-082272eeb4cf",
   "metadata": {},
   "outputs": [
    {
     "data": {
      "text/plain": [
       "True"
      ]
     },
     "execution_count": 1,
     "metadata": {},
     "output_type": "execute_result"
    }
   ],
   "source": [
    "# Equal (==)\n",
    "10 == 10"
   ]
  },
  {
   "cell_type": "code",
   "execution_count": 5,
   "id": "c998dc4d-8492-43e7-a886-813c4c48d5d1",
   "metadata": {},
   "outputs": [
    {
     "data": {
      "text/plain": [
       "False"
      ]
     },
     "execution_count": 5,
     "metadata": {},
     "output_type": "execute_result"
    }
   ],
   "source": [
    "'Vanilla' == 'Chocolate'"
   ]
  },
  {
   "cell_type": "code",
   "execution_count": 3,
   "id": "a012aa50-ced5-494d-846c-87266084ed8d",
   "metadata": {},
   "outputs": [
    {
     "data": {
      "text/plain": [
       "True"
      ]
     },
     "execution_count": 3,
     "metadata": {},
     "output_type": "execute_result"
    }
   ],
   "source": [
    "# Not equal (!=)\n",
    "10 != 50"
   ]
  },
  {
   "cell_type": "code",
   "execution_count": 7,
   "id": "ce264e4a-9c77-4529-b362-bb3cf1e0e15b",
   "metadata": {},
   "outputs": [
    {
     "data": {
      "text/plain": [
       "True"
      ]
     },
     "execution_count": 7,
     "metadata": {},
     "output_type": "execute_result"
    }
   ],
   "source": [
    "x = 'Vanilla'\n",
    "y = 'Chocolate'\n",
    "\n",
    "x != y"
   ]
  },
  {
   "cell_type": "code",
   "execution_count": 9,
   "id": "211c111d-1407-412b-9372-54a19ca3da84",
   "metadata": {},
   "outputs": [
    {
     "data": {
      "text/plain": [
       "True"
      ]
     },
     "execution_count": 9,
     "metadata": {},
     "output_type": "execute_result"
    }
   ],
   "source": [
    "# Less than (<)\n",
    "10 < 50"
   ]
  },
  {
   "cell_type": "code",
   "execution_count": 11,
   "id": "0d36d507-3710-4267-9a46-a09671cf6217",
   "metadata": {},
   "outputs": [
    {
     "data": {
      "text/plain": [
       "False"
      ]
     },
     "execution_count": 11,
     "metadata": {},
     "output_type": "execute_result"
    }
   ],
   "source": [
    "10 < 10"
   ]
  },
  {
   "cell_type": "code",
   "execution_count": 13,
   "id": "e2248e2d-70e4-405d-abfc-d16c3a7e4613",
   "metadata": {},
   "outputs": [
    {
     "data": {
      "text/plain": [
       "True"
      ]
     },
     "execution_count": 13,
     "metadata": {},
     "output_type": "execute_result"
    }
   ],
   "source": [
    "10 <= 10"
   ]
  },
  {
   "cell_type": "code",
   "execution_count": null,
   "id": "0abc915c-1d63-444e-b5c8-acc2a274755d",
   "metadata": {},
   "outputs": [],
   "source": [
    "# Greater than (>)\n",
    "10 >= 10"
   ]
  },
  {
   "cell_type": "code",
   "execution_count": 17,
   "id": "36ba89e0-036b-40de-829d-3edc3352e347",
   "metadata": {},
   "outputs": [
    {
     "data": {
      "text/plain": [
       "True"
      ]
     },
     "execution_count": 17,
     "metadata": {},
     "output_type": "execute_result"
    }
   ],
   "source": [
    "50 > 10"
   ]
  },
  {
   "cell_type": "markdown",
   "id": "88299cc2-0e0e-4726-96e4-450147e4d8d4",
   "metadata": {},
   "source": [
    "Logical Operators"
   ]
  },
  {
   "cell_type": "code",
   "execution_count": 19,
   "id": "4e262133-cdfc-4723-a602-62c42c214797",
   "metadata": {},
   "outputs": [
    {
     "data": {
      "text/plain": [
       "False"
      ]
     },
     "execution_count": 19,
     "metadata": {},
     "output_type": "execute_result"
    }
   ],
   "source": [
    "# and : returns True if both statements are true\n",
    "(10 > 50) and (50 > 10)"
   ]
  },
  {
   "cell_type": "code",
   "execution_count": 21,
   "id": "b6ba7dd8-11e2-4490-8709-2dd7db44546f",
   "metadata": {},
   "outputs": [
    {
     "data": {
      "text/plain": [
       "True"
      ]
     },
     "execution_count": 21,
     "metadata": {},
     "output_type": "execute_result"
    }
   ],
   "source": [
    "(70 > 50) and (50 > 10)"
   ]
  },
  {
   "cell_type": "code",
   "execution_count": 27,
   "id": "8e44cc24-74b4-45d1-8be9-241122fcd15b",
   "metadata": {},
   "outputs": [
    {
     "data": {
      "text/plain": [
       "True"
      ]
     },
     "execution_count": 27,
     "metadata": {},
     "output_type": "execute_result"
    }
   ],
   "source": [
    "('Vanilla' > 'Chocolate') and (50 > 10)"
   ]
  },
  {
   "cell_type": "code",
   "execution_count": 23,
   "id": "ed6d9059-202c-4f3c-9bf5-e6aa51b8973a",
   "metadata": {},
   "outputs": [
    {
     "data": {
      "text/plain": [
       "True"
      ]
     },
     "execution_count": 23,
     "metadata": {},
     "output_type": "execute_result"
    }
   ],
   "source": [
    "# or : returns True if one statements are true\n",
    "(70 > 50) or (50 > 10)"
   ]
  },
  {
   "cell_type": "code",
   "execution_count": 29,
   "id": "949acd12-f889-4f5f-aeef-2a5f7be943a8",
   "metadata": {},
   "outputs": [
    {
     "data": {
      "text/plain": [
       "True"
      ]
     },
     "execution_count": 29,
     "metadata": {},
     "output_type": "execute_result"
    }
   ],
   "source": [
    "('Vanilla' > 'Chocolate') or (50 > 10)"
   ]
  },
  {
   "cell_type": "code",
   "execution_count": 31,
   "id": "b6796769-fe97-4579-86b7-ab1ff5743ff0",
   "metadata": {},
   "outputs": [
    {
     "data": {
      "text/plain": [
       "False"
      ]
     },
     "execution_count": 31,
     "metadata": {},
     "output_type": "execute_result"
    }
   ],
   "source": [
    "# not : reverse the result, returns False if the result is true\n",
    "not(50 > 10)"
   ]
  },
  {
   "cell_type": "markdown",
   "id": "8f4eed25-5ab7-4ce5-88fc-55617e21a0f6",
   "metadata": {},
   "source": [
    "Membership Operators"
   ]
  },
  {
   "cell_type": "code",
   "execution_count": 33,
   "id": "ccd1df3f-cb9b-49b1-8960-b58dbb423301",
   "metadata": {},
   "outputs": [
    {
     "data": {
      "text/plain": [
       "True"
      ]
     },
     "execution_count": 33,
     "metadata": {},
     "output_type": "execute_result"
    }
   ],
   "source": [
    "# in : returns True if a sequence with specified value is present in the project\n",
    "\n",
    "ice_cream = 'I love chocolate ice cream'\n",
    "'love' in ice_cream"
   ]
  },
  {
   "cell_type": "code",
   "execution_count": 35,
   "id": "30726746-3192-4f89-9e52-eac04541ca72",
   "metadata": {},
   "outputs": [
    {
     "data": {
      "text/plain": [
       "True"
      ]
     },
     "execution_count": 35,
     "metadata": {},
     "output_type": "execute_result"
    }
   ],
   "source": [
    "'love' in 'I love chocolate ice cream'"
   ]
  },
  {
   "cell_type": "code",
   "execution_count": 37,
   "id": "86fc703b-7c06-40d9-a6c6-e4271bfaccfc",
   "metadata": {},
   "outputs": [
    {
     "data": {
      "text/plain": [
       "True"
      ]
     },
     "execution_count": 37,
     "metadata": {},
     "output_type": "execute_result"
    }
   ],
   "source": [
    "scoops = [1,2,3,4,5]\n",
    "2 in scoops"
   ]
  },
  {
   "cell_type": "code",
   "execution_count": 43,
   "id": "00d2e8c9-b674-4612-8b4d-d08680324b5d",
   "metadata": {},
   "outputs": [
    {
     "data": {
      "text/plain": [
       "False"
      ]
     },
     "execution_count": 43,
     "metadata": {},
     "output_type": "execute_result"
    }
   ],
   "source": [
    "scoops = [1,2,3,4,5]\n",
    "wanted_scoops = 8\n",
    "wanted_scoops in scoops"
   ]
  },
  {
   "cell_type": "code",
   "execution_count": 39,
   "id": "19c266e9-3625-4072-9b17-e531fbc0fbdb",
   "metadata": {},
   "outputs": [
    {
     "data": {
      "text/plain": [
       "True"
      ]
     },
     "execution_count": 39,
     "metadata": {},
     "output_type": "execute_result"
    }
   ],
   "source": [
    "#  not in : returns True if a sequence with specified value is not present in the project\n",
    "scoops = [1,2,3,4,5]\n",
    "6 not in scoops"
   ]
  },
  {
   "cell_type": "code",
   "execution_count": 41,
   "id": "9bca49c3-92ad-4202-8d78-067f46c10e75",
   "metadata": {},
   "outputs": [
    {
     "data": {
      "text/plain": [
       "True"
      ]
     },
     "execution_count": 41,
     "metadata": {},
     "output_type": "execute_result"
    }
   ],
   "source": [
    "wanted_scoops = 8\n",
    "wanted_scoops not in scoops"
   ]
  }
 ],
 "metadata": {
  "kernelspec": {
   "display_name": "Python 3 (ipykernel)",
   "language": "python",
   "name": "python3"
  },
  "language_info": {
   "codemirror_mode": {
    "name": "ipython",
    "version": 3
   },
   "file_extension": ".py",
   "mimetype": "text/x-python",
   "name": "python",
   "nbconvert_exporter": "python",
   "pygments_lexer": "ipython3",
   "version": "3.12.7"
  }
 },
 "nbformat": 4,
 "nbformat_minor": 5
}
