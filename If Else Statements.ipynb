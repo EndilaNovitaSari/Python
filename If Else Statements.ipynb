{
 "cells": [
  {
   "cell_type": "code",
   "execution_count": 1,
   "id": "593b0355-a3b1-49c2-99dd-95353c285631",
   "metadata": {},
   "outputs": [
    {
     "name": "stdout",
     "output_type": "stream",
     "text": [
      "It worked!\n"
     ]
    }
   ],
   "source": [
    "#  If\n",
    "\n",
    "if 25 > 10:\n",
    "    print('It worked!')"
   ]
  },
  {
   "cell_type": "code",
   "execution_count": 3,
   "id": "6615aade-95be-4949-8a98-dc22f579a561",
   "metadata": {},
   "outputs": [
    {
     "name": "stdout",
     "output_type": "stream",
     "text": [
      "It did not work ...\n"
     ]
    }
   ],
   "source": [
    "#  If Else\n",
    "\n",
    "if 25 < 10:\n",
    "    print('It worked!')\n",
    "else:\n",
    "    print('It did not work ...')"
   ]
  },
  {
   "cell_type": "code",
   "execution_count": 5,
   "id": "64409c6f-80db-4f07-b642-bbcdff2c3378",
   "metadata": {},
   "outputs": [
    {
     "name": "stdout",
     "output_type": "stream",
     "text": [
      "It worked!\n"
     ]
    }
   ],
   "source": [
    "if 25 > 10:\n",
    "    print('It worked!')\n",
    "else:\n",
    "    print('It did not work ...')"
   ]
  },
  {
   "cell_type": "code",
   "execution_count": 7,
   "id": "79283bb7-a007-4aea-923d-529669a75083",
   "metadata": {},
   "outputs": [
    {
     "name": "stdout",
     "output_type": "stream",
     "text": [
      "Elif worked!\n"
     ]
    }
   ],
   "source": [
    "# Elif\n",
    "\n",
    "if 25 < 10:\n",
    "    print('It worked!')\n",
    "elif 25 < 30:\n",
    "    print('Elif worked!')\n",
    "else:\n",
    "    print('It did not work ...')"
   ]
  },
  {
   "cell_type": "code",
   "execution_count": 13,
   "id": "a2084450-cfb6-4fb7-80cc-38b7e906e147",
   "metadata": {},
   "outputs": [
    {
     "name": "stdout",
     "output_type": "stream",
     "text": [
      "Elif 3 worked!\n"
     ]
    }
   ],
   "source": [
    "if 25 < 10:\n",
    "    print('It worked!')\n",
    "elif 25 < 20:\n",
    "    print('Elif worked!')\n",
    "elif 25 < 21:\n",
    "    print('Elif 2 worked!')\n",
    "elif 25 < 40:\n",
    "    print('Elif 3 worked!')\n",
    "elif 25 < 50:\n",
    "    print('Elif 4 worked!')\n",
    "else:\n",
    "    print('It did not work ...')"
   ]
  },
  {
   "cell_type": "code",
   "execution_count": 15,
   "id": "08b4324e-4806-4f71-897d-151c36cec0f1",
   "metadata": {},
   "outputs": [
    {
     "name": "stdout",
     "output_type": "stream",
     "text": [
      "It worked!\n"
     ]
    }
   ],
   "source": [
    "if (25 < 10) or (1 < 3):\n",
    "    print('It worked!')\n",
    "elif 25 < 20:\n",
    "    print('Elif worked!')\n",
    "elif 25 < 21:\n",
    "    print('Elif 2 worked!')\n",
    "elif 25 < 40:\n",
    "    print('Elif 3 worked!')\n",
    "elif 25 < 50:\n",
    "    print('Elif 4 worked!')\n",
    "else:\n",
    "    print('It did not work ...')"
   ]
  },
  {
   "cell_type": "code",
   "execution_count": 17,
   "id": "e78a6096-c8ec-4d99-9cf6-05abedcb8e54",
   "metadata": {},
   "outputs": [
    {
     "name": "stdout",
     "output_type": "stream",
     "text": [
      "It did not work ...\n"
     ]
    }
   ],
   "source": [
    "# one line\n",
    "print('It worked!') if 10 > 30 else print('It did not work ...')"
   ]
  },
  {
   "cell_type": "code",
   "execution_count": 19,
   "id": "a35a0d2a-62de-443c-b52d-64756ebdaf89",
   "metadata": {},
   "outputs": [
    {
     "name": "stdout",
     "output_type": "stream",
     "text": [
      "It worked!\n",
      "This nested if statement worked!\n"
     ]
    }
   ],
   "source": [
    "# Nested If Statement\n",
    "\n",
    "if (25 < 10) or (1 < 3):\n",
    "    print('It worked!')\n",
    "    if 10 > 5:\n",
    "        print('This nested if statement worked!')\n",
    "elif 25 < 20:\n",
    "    print('Elif worked!')\n",
    "elif 25 < 21:\n",
    "    print('Elif 2 worked!')\n",
    "elif 25 < 40:\n",
    "    print('Elif 3 worked!')\n",
    "elif 25 < 50:\n",
    "    print('Elif 4 worked!')\n",
    "else:\n",
    "    print('It did not work ...')"
   ]
  }
 ],
 "metadata": {
  "kernelspec": {
   "display_name": "Python 3 (ipykernel)",
   "language": "python",
   "name": "python3"
  },
  "language_info": {
   "codemirror_mode": {
    "name": "ipython",
    "version": 3
   },
   "file_extension": ".py",
   "mimetype": "text/x-python",
   "name": "python",
   "nbconvert_exporter": "python",
   "pygments_lexer": "ipython3",
   "version": "3.12.7"
  }
 },
 "nbformat": 4,
 "nbformat_minor": 5
}
