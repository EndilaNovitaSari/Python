{
 "cells": [
  {
   "cell_type": "code",
   "execution_count": 1,
   "id": "2ba0634f-4c5c-452f-a27a-fd27f7214dcd",
   "metadata": {},
   "outputs": [
    {
     "data": {
      "text/plain": [
       "int"
      ]
     },
     "execution_count": 1,
     "metadata": {},
     "output_type": "execute_result"
    }
   ],
   "source": [
    "num_int = 7\n",
    "type(num_int) "
   ]
  },
  {
   "cell_type": "code",
   "execution_count": 3,
   "id": "57c83312-224e-4e99-ac27-d0ad4273a657",
   "metadata": {},
   "outputs": [
    {
     "data": {
      "text/plain": [
       "str"
      ]
     },
     "execution_count": 3,
     "metadata": {},
     "output_type": "execute_result"
    }
   ],
   "source": [
    "num_str = '7'\n",
    "type(num_str)"
   ]
  },
  {
   "cell_type": "code",
   "execution_count": 13,
   "id": "20e30f64-441d-47e2-8b6b-01bd59612b7e",
   "metadata": {},
   "outputs": [
    {
     "data": {
      "text/plain": [
       "int"
      ]
     },
     "execution_count": 13,
     "metadata": {},
     "output_type": "execute_result"
    }
   ],
   "source": [
    "num_str_conv = int(num_str)\n",
    "type (num_str_conv)"
   ]
  },
  {
   "cell_type": "code",
   "execution_count": 15,
   "id": "3befaeb5-7214-47ce-bb65-6f25957782ac",
   "metadata": {},
   "outputs": [
    {
     "name": "stdout",
     "output_type": "stream",
     "text": [
      "14\n"
     ]
    }
   ],
   "source": [
    "num_sum = num_int + num_str_conv\n",
    "print(num_sum)"
   ]
  },
  {
   "cell_type": "code",
   "execution_count": 19,
   "id": "c1d804fb-9330-4ebc-b92b-731b9959ad11",
   "metadata": {},
   "outputs": [
    {
     "name": "stdout",
     "output_type": "stream",
     "text": [
      "14\n"
     ]
    }
   ],
   "source": [
    "num_sum = num_int + int(num_str)\n",
    "print(num_sum)"
   ]
  },
  {
   "cell_type": "code",
   "execution_count": 21,
   "id": "bcb048a5-7c8e-473a-aede-d84575ff5df5",
   "metadata": {},
   "outputs": [
    {
     "data": {
      "text/plain": [
       "int"
      ]
     },
     "execution_count": 21,
     "metadata": {},
     "output_type": "execute_result"
    }
   ],
   "source": [
    "type(num_sum)"
   ]
  },
  {
   "cell_type": "code",
   "execution_count": 23,
   "id": "9ec1f5a4-1183-4261-b238-8ab742034405",
   "metadata": {},
   "outputs": [
    {
     "data": {
      "text/plain": [
       "list"
      ]
     },
     "execution_count": 23,
     "metadata": {},
     "output_type": "execute_result"
    }
   ],
   "source": [
    "list_type = [1,2,3]\n",
    "type(list_type)"
   ]
  },
  {
   "cell_type": "code",
   "execution_count": 27,
   "id": "419a7468-29e6-477a-a2c2-cf262379b81c",
   "metadata": {},
   "outputs": [
    {
     "data": {
      "text/plain": [
       "tuple"
      ]
     },
     "execution_count": 27,
     "metadata": {},
     "output_type": "execute_result"
    }
   ],
   "source": [
    "type(tuple(list_type))"
   ]
  },
  {
   "cell_type": "code",
   "execution_count": null,
   "id": "334c02d5-127b-462d-bc4a-4d2be7b00db8",
   "metadata": {},
   "outputs": [],
   "source": [
    "list_type = [1,2,3,2,1,3,1,3,2,1,2]"
   ]
  },
  {
   "cell_type": "code",
   "execution_count": 29,
   "id": "2cc97421-a3af-4a30-a0a2-e48f7ca51c87",
   "metadata": {},
   "outputs": [
    {
     "data": {
      "text/plain": [
       "{1, 2, 3}"
      ]
     },
     "execution_count": 29,
     "metadata": {},
     "output_type": "execute_result"
    }
   ],
   "source": [
    "set(list_type)"
   ]
  },
  {
   "cell_type": "code",
   "execution_count": 33,
   "id": "9c19bec8-8edc-42d1-a327-c1eae33aad7f",
   "metadata": {},
   "outputs": [
    {
     "data": {
      "text/plain": [
       "set"
      ]
     },
     "execution_count": 33,
     "metadata": {},
     "output_type": "execute_result"
    }
   ],
   "source": [
    "type(set(list_type))"
   ]
  },
  {
   "cell_type": "code",
   "execution_count": 41,
   "id": "3f5aa4a0-b901-439b-b516-7eb082f2b7a0",
   "metadata": {},
   "outputs": [
    {
     "data": {
      "text/plain": [
       "dict"
      ]
     },
     "execution_count": 41,
     "metadata": {},
     "output_type": "execute_result"
    }
   ],
   "source": [
    "dict_type = {'name' : 'Dila', 'age' : 16, 'hair' : 'N/A'}\n",
    "type(dict_type)"
   ]
  },
  {
   "cell_type": "code",
   "execution_count": 43,
   "id": "95008441-9980-407f-9504-065f755d8b9d",
   "metadata": {},
   "outputs": [
    {
     "data": {
      "text/plain": [
       "dict_items([('name', 'Dila'), ('age', 16), ('hair', 'N/A')])"
      ]
     },
     "execution_count": 43,
     "metadata": {},
     "output_type": "execute_result"
    }
   ],
   "source": [
    "dict_type.items()"
   ]
  },
  {
   "cell_type": "code",
   "execution_count": 45,
   "id": "f8608886-30bf-4953-944a-0ae57e1a0d5f",
   "metadata": {},
   "outputs": [
    {
     "data": {
      "text/plain": [
       "dict_values(['Dila', 16, 'N/A'])"
      ]
     },
     "execution_count": 45,
     "metadata": {},
     "output_type": "execute_result"
    }
   ],
   "source": [
    "dict_type.values()"
   ]
  },
  {
   "cell_type": "code",
   "execution_count": 47,
   "id": "49f49963-d1dd-4894-8e05-c3299d4e339c",
   "metadata": {},
   "outputs": [
    {
     "data": {
      "text/plain": [
       "dict_keys(['name', 'age', 'hair'])"
      ]
     },
     "execution_count": 47,
     "metadata": {},
     "output_type": "execute_result"
    }
   ],
   "source": [
    "dict_type.keys()"
   ]
  },
  {
   "cell_type": "code",
   "execution_count": 49,
   "id": "f0ddc7c6-ad93-4df9-adbb-bed2ebc7d01c",
   "metadata": {},
   "outputs": [
    {
     "data": {
      "text/plain": [
       "['name', 'age', 'hair']"
      ]
     },
     "execution_count": 49,
     "metadata": {},
     "output_type": "execute_result"
    }
   ],
   "source": [
    "list(dict_type.keys())"
   ]
  },
  {
   "cell_type": "code",
   "execution_count": 51,
   "id": "c374336f-9a67-4821-9d37-d9fdccc48cdf",
   "metadata": {},
   "outputs": [
    {
     "data": {
      "text/plain": [
       "list"
      ]
     },
     "execution_count": 51,
     "metadata": {},
     "output_type": "execute_result"
    }
   ],
   "source": [
    "type(list(dict_type.keys()))"
   ]
  },
  {
   "cell_type": "code",
   "execution_count": 53,
   "id": "31bae5bd-88a1-4240-9c30-ebb19e6ad3ff",
   "metadata": {},
   "outputs": [
    {
     "data": {
      "text/plain": [
       "list"
      ]
     },
     "execution_count": 53,
     "metadata": {},
     "output_type": "execute_result"
    }
   ],
   "source": [
    "type(list(dict_type.values()))"
   ]
  },
  {
   "cell_type": "code",
   "execution_count": 55,
   "id": "6d1cd1e8-5b1f-42d7-ba02-45f0da2493a8",
   "metadata": {},
   "outputs": [
    {
     "data": {
      "text/plain": [
       "['I', ' ', 'l', 'i', 'k', 'e', ' ', 't', 'o', ' ', 'p', 'a', 'r', 't', 'y']"
      ]
     },
     "execution_count": 55,
     "metadata": {},
     "output_type": "execute_result"
    }
   ],
   "source": [
    "long_str = \"I like to party\"\n",
    "list(long_str)"
   ]
  }
 ],
 "metadata": {
  "kernelspec": {
   "display_name": "Python 3 (ipykernel)",
   "language": "python",
   "name": "python3"
  },
  "language_info": {
   "codemirror_mode": {
    "name": "ipython",
    "version": 3
   },
   "file_extension": ".py",
   "mimetype": "text/x-python",
   "name": "python",
   "nbconvert_exporter": "python",
   "pygments_lexer": "ipython3",
   "version": "3.12.7"
  }
 },
 "nbformat": 4,
 "nbformat_minor": 5
}
