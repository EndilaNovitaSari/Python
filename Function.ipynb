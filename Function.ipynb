{
 "cells": [
  {
   "cell_type": "markdown",
   "id": "516f7ea9-15ce-413e-8cc0-564f8e389e54",
   "metadata": {},
   "source": [
    "Function is a block of code which is only run when you call it"
   ]
  },
  {
   "cell_type": "code",
   "execution_count": null,
   "id": "a84acc17-df9f-4d73-8a64-016c741ae3af",
   "metadata": {},
   "outputs": [],
   "source": [
    "def function():                # function \n",
    "    print(\"My First Function\") # body\n",
    "\n",
    "# function() --> function call, can change\n",
    "# My First Function --> output\n",
    "# def --> keyword to defining a function"
   ]
  },
  {
   "cell_type": "code",
   "execution_count": 1,
   "id": "a3b659f9-a9e2-49d4-a805-37736e6f51ff",
   "metadata": {},
   "outputs": [],
   "source": [
    "def first_func():\n",
    "    print('We did it!')"
   ]
  },
  {
   "cell_type": "code",
   "execution_count": 3,
   "id": "54906e22-d517-4e05-a81a-9baf669e60dd",
   "metadata": {},
   "outputs": [
    {
     "name": "stdout",
     "output_type": "stream",
     "text": [
      "We did it!\n"
     ]
    }
   ],
   "source": [
    "# to see the out you shoud call the function\n",
    "first_func()"
   ]
  },
  {
   "cell_type": "code",
   "execution_count": 5,
   "id": "864f556d-30c2-4c8d-b166-61ab8a1334f5",
   "metadata": {},
   "outputs": [],
   "source": [
    "# passing an argument into a function\n",
    "def number_squared(number): # number = argument\n",
    "    print(number**2)"
   ]
  },
  {
   "cell_type": "code",
   "execution_count": 7,
   "id": "66443ab2-7eaf-4337-812a-569d4d93a50f",
   "metadata": {},
   "outputs": [
    {
     "name": "stdout",
     "output_type": "stream",
     "text": [
      "25\n"
     ]
    }
   ],
   "source": [
    "number_squared(5)"
   ]
  },
  {
   "cell_type": "code",
   "execution_count": 9,
   "id": "6274d953-ae8b-434e-bcc1-9ddc3620353e",
   "metadata": {},
   "outputs": [],
   "source": [
    "# many arguments, separate with comma\n",
    "def number_squared_cust(number, power):\n",
    "    print(number**power)"
   ]
  },
  {
   "cell_type": "code",
   "execution_count": 11,
   "id": "b7d61bd6-2df9-430e-9c87-6f70ea6940ff",
   "metadata": {},
   "outputs": [
    {
     "name": "stdout",
     "output_type": "stream",
     "text": [
      "125\n"
     ]
    }
   ],
   "source": [
    "number_squared_cust(5,3)"
   ]
  },
  {
   "cell_type": "code",
   "execution_count": 21,
   "id": "a29437f5-5c36-4055-a475-4b7af47514d4",
   "metadata": {},
   "outputs": [],
   "source": [
    "# Arbitrary Arguments (*args)\n",
    "# use to if you don't know how many arguments you want to pass through\n",
    "\n",
    "def number_args(*args):\n",
    "    print(args[0]*args[1])"
   ]
  },
  {
   "cell_type": "code",
   "execution_count": 23,
   "id": "cc6744bd-7fa9-47ad-86ae-3ac0f26536ad",
   "metadata": {},
   "outputs": [
    {
     "name": "stdout",
     "output_type": "stream",
     "text": [
      "30\n"
     ]
    }
   ],
   "source": [
    "number_args(5,6,1,2,8)"
   ]
  },
  {
   "cell_type": "code",
   "execution_count": 29,
   "id": "e6b9496a-a2f6-4187-ba52-8fed0c24435e",
   "metadata": {},
   "outputs": [],
   "source": [
    "# insert into tuple\n",
    "args_tuple = (5,6,1,2,8)\n",
    "def number_args(*args):\n",
    "    print(args[0]*args[1])"
   ]
  },
  {
   "cell_type": "code",
   "execution_count": 33,
   "id": "c0e5be63-6e22-4bba-a81d-74495c40edfa",
   "metadata": {},
   "outputs": [
    {
     "name": "stdout",
     "output_type": "stream",
     "text": [
      "30\n"
     ]
    }
   ],
   "source": [
    "number_args(*args_tuple)"
   ]
  },
  {
   "cell_type": "code",
   "execution_count": 35,
   "id": "48b94572-00cd-433f-95fb-44252b6b73c8",
   "metadata": {},
   "outputs": [],
   "source": [
    "# Keyword Arguments and Arbitrary Arguments\n",
    "def number_squared_cust(number, power):\n",
    "    print(number**power)"
   ]
  },
  {
   "cell_type": "code",
   "execution_count": 37,
   "id": "6557894e-05a3-4915-a7f7-00579fce0f38",
   "metadata": {},
   "outputs": [
    {
     "name": "stdout",
     "output_type": "stream",
     "text": [
      "243\n"
     ]
    }
   ],
   "source": [
    "number_squared_cust(power = 5, number = 3)"
   ]
  },
  {
   "cell_type": "code",
   "execution_count": 59,
   "id": "af363dd4-c4a9-49a4-a307-0c7652acc25a",
   "metadata": {},
   "outputs": [],
   "source": [
    "# Keyword Arbitrary Arguments (kwargs) --> (**)\n",
    "def number_kwarg(**number):\n",
    "    print('My number is: ' + number['integer'] + ' My other number: ' + number['integer2'])"
   ]
  },
  {
   "cell_type": "code",
   "execution_count": 61,
   "id": "ab7a52fb-2889-4e21-a631-5614deb8a515",
   "metadata": {},
   "outputs": [
    {
     "name": "stdout",
     "output_type": "stream",
     "text": [
      "My number is: 2309 My other number: 349\n"
     ]
    }
   ],
   "source": [
    "number_kwarg(integer = '2309', integer2 = '349')"
   ]
  },
  {
   "cell_type": "code",
   "execution_count": null,
   "id": "c8a8b2a7-00fd-4a3f-8ad0-c330f9e28fc3",
   "metadata": {},
   "outputs": [],
   "source": []
  }
 ],
 "metadata": {
  "kernelspec": {
   "display_name": "Python 3 (ipykernel)",
   "language": "python",
   "name": "python3"
  },
  "language_info": {
   "codemirror_mode": {
    "name": "ipython",
    "version": 3
   },
   "file_extension": ".py",
   "mimetype": "text/x-python",
   "name": "python",
   "nbconvert_exporter": "python",
   "pygments_lexer": "ipython3",
   "version": "3.12.7"
  }
 },
 "nbformat": 4,
 "nbformat_minor": 5
}
