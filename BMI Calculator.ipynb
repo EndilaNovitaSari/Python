{
 "cells": [
  {
   "cell_type": "markdown",
   "id": "1cd52088-eff7-42e1-b1a1-4e2c4b3c745e",
   "metadata": {},
   "source": [
    "Link sample formula :\n",
    "https://mercer-health.com/services/weight-management-center/bmi-calculator#:~:text=Body%20Mass%20Index%2C%20or%20BMI,inches%20x%20height%20in%20inches"
   ]
  },
  {
   "cell_type": "markdown",
   "id": "cc9608fa-7628-4c04-8c98-12166c2bd98c",
   "metadata": {},
   "source": [
    "INPUT"
   ]
  },
  {
   "cell_type": "code",
   "execution_count": 11,
   "id": "7751374e-f5ce-4cd7-8d01-cc66fca5fd3b",
   "metadata": {},
   "outputs": [
    {
     "name": "stdin",
     "output_type": "stream",
     "text": [
      " Dila\n"
     ]
    }
   ],
   "source": [
    "weight = input()"
   ]
  },
  {
   "cell_type": "code",
   "execution_count": 13,
   "id": "cd8538bc-fe5a-45a5-9b62-6b68d41a9578",
   "metadata": {},
   "outputs": [
    {
     "name": "stdout",
     "output_type": "stream",
     "text": [
      "Dila\n"
     ]
    }
   ],
   "source": [
    "print(weight)"
   ]
  },
  {
   "cell_type": "code",
   "execution_count": 15,
   "id": "c428c5c2-3b3d-4a91-8421-27e6a98e7832",
   "metadata": {},
   "outputs": [
    {
     "name": "stdin",
     "output_type": "stream",
     "text": [
      "Enter your weight in pounds:  99\n"
     ]
    }
   ],
   "source": [
    "weight = input(\"Enter your weight in pounds: \")"
   ]
  },
  {
   "cell_type": "code",
   "execution_count": 17,
   "id": "1827c42f-7808-4c82-977c-a7a52ed78c25",
   "metadata": {},
   "outputs": [
    {
     "name": "stdout",
     "output_type": "stream",
     "text": [
      "99\n"
     ]
    }
   ],
   "source": [
    "print(weight)"
   ]
  },
  {
   "cell_type": "code",
   "execution_count": 19,
   "id": "51e35397-a5ef-4026-b535-b0d370dce619",
   "metadata": {},
   "outputs": [
    {
     "name": "stdin",
     "output_type": "stream",
     "text": [
      "Enter your weight in pounds:  99\n",
      "Enter your height in inches:  59\n"
     ]
    }
   ],
   "source": [
    "weight = input(\"Enter your weight in pounds: \")\n",
    "height = input(\"Enter your height in inches: \")"
   ]
  },
  {
   "cell_type": "code",
   "execution_count": null,
   "id": "2cf94062-da36-4489-8844-39a2b2ba6ed5",
   "metadata": {},
   "outputs": [],
   "source": [
    "FORMULA"
   ]
  },
  {
   "cell_type": "code",
   "execution_count": 25,
   "id": "7335a6a7-0417-4c54-b866-96301d2cf18b",
   "metadata": {},
   "outputs": [
    {
     "name": "stdin",
     "output_type": "stream",
     "text": [
      "Enter your weight in pounds:  99\n",
      "Enter your height in inches:  59\n"
     ]
    },
    {
     "ename": "TypeError",
     "evalue": "can't multiply sequence by non-int of type 'str'",
     "output_type": "error",
     "traceback": [
      "\u001b[1;31m---------------------------------------------------------------------------\u001b[0m",
      "\u001b[1;31mTypeError\u001b[0m                                 Traceback (most recent call last)",
      "Cell \u001b[1;32mIn[25], line 4\u001b[0m\n\u001b[0;32m      1\u001b[0m weight \u001b[38;5;241m=\u001b[39m \u001b[38;5;28minput\u001b[39m(\u001b[38;5;124m\"\u001b[39m\u001b[38;5;124mEnter your weight in pounds: \u001b[39m\u001b[38;5;124m\"\u001b[39m)\n\u001b[0;32m      2\u001b[0m height \u001b[38;5;241m=\u001b[39m \u001b[38;5;28minput\u001b[39m(\u001b[38;5;124m\"\u001b[39m\u001b[38;5;124mEnter your height in inches: \u001b[39m\u001b[38;5;124m\"\u001b[39m)\n\u001b[1;32m----> 4\u001b[0m BMI \u001b[38;5;241m=\u001b[39m (weight \u001b[38;5;241m*\u001b[39m \u001b[38;5;241m703\u001b[39m) \u001b[38;5;241m/\u001b[39m (height \u001b[38;5;241m*\u001b[39m height)\n",
      "\u001b[1;31mTypeError\u001b[0m: can't multiply sequence by non-int of type 'str'"
     ]
    }
   ],
   "source": [
    "weight = input(\"Enter your weight in pounds: \")\n",
    "height = input(\"Enter your height in inches: \")\n",
    "\n",
    "BMI = (weight * 703) / (height * height)"
   ]
  },
  {
   "cell_type": "markdown",
   "id": "0376e880-6f11-4161-9b07-237fad76c42b",
   "metadata": {},
   "source": [
    "CHANGE THE TYPE OF DATA INTO INTEGER"
   ]
  },
  {
   "cell_type": "code",
   "execution_count": 45,
   "id": "cb045dce-35cc-4618-a4b9-031282ad3744",
   "metadata": {},
   "outputs": [
    {
     "name": "stdin",
     "output_type": "stream",
     "text": [
      "Enter your name:  Dila\n",
      "Enter your weight in pounds:  99\n",
      "Enter your height in inches:  59\n"
     ]
    },
    {
     "name": "stdout",
     "output_type": "stream",
     "text": [
      "19.993392703246194\n"
     ]
    }
   ],
   "source": [
    "name = input(\"Enter your name: \")\n",
    "weight = int(input(\"Enter your weight in pounds: \"))\n",
    "height = int(input(\"Enter your height in inches: \"))\n",
    "\n",
    "BMI = (weight * 703) / (height * height)\n",
    "print(BMI)"
   ]
  },
  {
   "cell_type": "code",
   "execution_count": null,
   "id": "1a6a35c2-7e78-4d2a-bf51-4f69e0d8d799",
   "metadata": {},
   "outputs": [],
   "source": [
    "IF STATEMENT"
   ]
  },
  {
   "cell_type": "code",
   "execution_count": 49,
   "id": "1adb6b88-6ad5-4651-bbee-c9ce81ef4173",
   "metadata": {},
   "outputs": [
    {
     "name": "stdout",
     "output_type": "stream",
     "text": [
      "Dila, you are normal weight.\n"
     ]
    }
   ],
   "source": [
    "if BMI > 0:\n",
    "    if(BMI < 18.5):\n",
    "        print(name +\", you are underweight.\")\n",
    "    elif(BMI <= 24.9):\n",
    "        print(name +\", you are normal weight.\")\n",
    "    elif(BMI < 29.9):\n",
    "        print(name +\", you are overweight.\")\n",
    "    elif(BMI < 34.9):\n",
    "        print(name +\", you are obese.\")\n",
    "    elif(BMI < 34.9):\n",
    "        print(name +\", you are severely obese.\")\n",
    "    elif(BMI > 40.0):\n",
    "        print(name +\", you are severely obese.\")\n",
    "    else :\n",
    "        print(name +\", you are morbidly obese.\")\n",
    "else:\n",
    "    print(\"Enter valid input\")"
   ]
  },
  {
   "cell_type": "code",
   "execution_count": null,
   "id": "b717be6d-98b9-4a49-82f1-703db2abb2d1",
   "metadata": {},
   "outputs": [],
   "source": [
    "ENTIRE CALCULATE"
   ]
  },
  {
   "cell_type": "code",
   "execution_count": 51,
   "id": "3faee996-04d3-49a1-9553-94b87920dd29",
   "metadata": {},
   "outputs": [
    {
     "name": "stdin",
     "output_type": "stream",
     "text": [
      "Enter your name:  Dila\n",
      "Enter your weight in pounds:  99\n",
      "Enter your height in inches:  59\n"
     ]
    },
    {
     "name": "stdout",
     "output_type": "stream",
     "text": [
      "19.993392703246194\n",
      "Dila, you are normal weight.\n"
     ]
    }
   ],
   "source": [
    "name = input(\"Enter your name: \")\n",
    "weight = int(input(\"Enter your weight in pounds: \"))\n",
    "height = int(input(\"Enter your height in inches: \"))\n",
    "\n",
    "BMI = (weight * 703) / (height * height)\n",
    "print(BMI)\n",
    "\n",
    "\n",
    "if BMI > 0:\n",
    "    if(BMI < 18.5):\n",
    "        print(name +\", you are underweight.\")\n",
    "    elif(BMI <= 24.9):\n",
    "        print(name +\", you are normal weight.\")\n",
    "    elif(BMI < 29.9):\n",
    "        print(name +\", you are overweight.\")\n",
    "    elif(BMI < 34.9):\n",
    "        print(name +\", you are obese.\")\n",
    "    elif(BMI < 34.9):\n",
    "        print(name +\", you are severely obese.\")\n",
    "    elif(BMI > 40.0):\n",
    "        print(name +\", you are severely obese.\")\n",
    "    else :\n",
    "        print(name +\", you are morbidly obese.\")\n",
    "else:\n",
    "    print(\"Enter valid input\")"
   ]
  }
 ],
 "metadata": {
  "kernelspec": {
   "display_name": "Python 3 (ipykernel)",
   "language": "python",
   "name": "python3"
  },
  "language_info": {
   "codemirror_mode": {
    "name": "ipython",
    "version": 3
   },
   "file_extension": ".py",
   "mimetype": "text/x-python",
   "name": "python",
   "nbconvert_exporter": "python",
   "pygments_lexer": "ipython3",
   "version": "3.12.7"
  }
 },
 "nbformat": 4,
 "nbformat_minor": 5
}
